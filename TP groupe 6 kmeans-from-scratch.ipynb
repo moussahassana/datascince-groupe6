{
 "cells": [
  {
   "cell_type": "markdown",
   "id": "e4d0dec5",
   "metadata": {},
   "source": [
    "# TRAVAUX PRATIQUES GROUPE 6 K-MEANS: Prédiction du cancer de sein"
   ]
  },
  {
   "cell_type": "markdown",
   "id": "f752b7e8",
   "metadata": {},
   "source": [
    "# 1- Formulation d'une solution \n",
    "&emsp;&emsp;Pour aborder ce problème de classification sur le cancer du sein, l'utilisation d'un modèle basé sur l'algorithme K-means pourrait être envisagée pour assigner efficacement les patients aux catégories de témoins sains ou de patientes atteintes de cancer du sein, en se basant sur leurs caractéristiques cliniques."
   ]
  },
  {
   "cell_type": "markdown",
   "id": "f55b3b89",
   "metadata": {
    "jp-MarkdownHeadingCollapsed": true
   },
   "source": [
    "# 2- Collecte des données\n",
    "&emsp;&emsp;Nous avons recueilli le dataset sur kaggle: https://www.kaggle.com/datasets/tanshihjen/coimbra-breastcancer/data\n",
    "    \n",
    "&emsp;&emsp;Cet ensemble de données présente une exploration complète des caractéristiques cliniques observées ou mesurées chez 64 patientes atteintes d'un cancer du sein et 52 témoins sains. L'ensemble de données comprend à la fois des attributs quantitatifs et des étiquettes correspondantes pour une analyse et une modélisation efficaces.\n",
    "\n",
    "**Attributs quantitatifs :**\n",
    "\n",
    "- **Âge (années):** Âge des individus.\n",
    "- **IMC (kg/m²):** Indice de masse corporelle, une mesure de la graisse corporelle basée sur le poids et la taille.\n",
    "- **Glucose (mg/dL):** Glycémie, un indicateur métabolique important.\n",
    "- **Insuline (µU/mL):** Taux d'insuline, une hormone liée à la régulation du glucose.\n",
    "- **HOMA:** Homeostatic Model Assessment, une méthode d’évaluation de la résistance à l’insuline et de la fonction des cellules bêta.\n",
    "- **Leptine (ng/mL):** Taux de leptine, une hormone impliquée dans la régulation de l'appétit et de l'équilibre énergétique.\n",
    "- **Adiponectine (µg/mL):** Taux d'adiponectine, une protéine associée à la régulation métabolique.\n",
    "- **Résistine (ng/mL):** Niveaux de résistine, une protéine impliquée dans la résistance à l'insuline.\n",
    "- **MCP-1 (pg/dL):** Monocyte Chemoattractant Protein-1, une cytokine impliquée dans l'inflammation.\n",
    "\n",
    "**Étiquettes:**\n",
    "\n",
    "- **1 :** Témoins sains\n",
    "- **2 :** Patientes atteintes d’un cancer du sein\n",
    "\n"
   ]
  },
  {
   "cell_type": "markdown",
   "id": "106c473d",
   "metadata": {},
   "source": [
    "# 3-Prétraitement des données \n",
    "## Importation des bibliothèques\n"
   ]
  },
  {
   "cell_type": "code",
   "execution_count": 36,
   "id": "7e0ac818",
   "metadata": {},
   "outputs": [],
   "source": [
    "import matplotlib.pyplot as plt\n",
    "import pandas as pd\n",
    "import numpy as np\n",
    "from sklearn.preprocessing import StandardScaler\n",
    "from sklearn.cluster import KMeans\n",
    "from sklearn.model_selection import train_test_split\n",
    "from sklearn.metrics import roc_curve, auc\n",
    "#from kneed import KneeLocator \n",
    "import missingno as msno\n",
    "import warnings\n",
    "warnings.filterwarnings('ignore')"
   ]
  },
  {
   "cell_type": "code",
   "execution_count": 37,
   "id": "30172836",
   "metadata": {},
   "outputs": [],
   "source": [
    "#Chargement du dataset\n",
    "data=pd.read_csv('Coimbra_breast_cancer_dataset.csv')"
   ]
  },
  {
   "cell_type": "code",
   "execution_count": 38,
   "id": "e5b6f957",
   "metadata": {},
   "outputs": [
    {
     "data": {
      "text/html": [
       "<div>\n",
       "<style scoped>\n",
       "    .dataframe tbody tr th:only-of-type {\n",
       "        vertical-align: middle;\n",
       "    }\n",
       "\n",
       "    .dataframe tbody tr th {\n",
       "        vertical-align: top;\n",
       "    }\n",
       "\n",
       "    .dataframe thead th {\n",
       "        text-align: right;\n",
       "    }\n",
       "</style>\n",
       "<table border=\"1\" class=\"dataframe\">\n",
       "  <thead>\n",
       "    <tr style=\"text-align: right;\">\n",
       "      <th></th>\n",
       "      <th>Age</th>\n",
       "      <th>BMI</th>\n",
       "      <th>Glucose</th>\n",
       "      <th>Insulin</th>\n",
       "      <th>HOMA</th>\n",
       "      <th>Leptin</th>\n",
       "      <th>Adiponectin</th>\n",
       "      <th>Resistin</th>\n",
       "      <th>MCP.1</th>\n",
       "      <th>Classification</th>\n",
       "    </tr>\n",
       "  </thead>\n",
       "  <tbody>\n",
       "    <tr>\n",
       "      <th>0</th>\n",
       "      <td>48</td>\n",
       "      <td>23.500000</td>\n",
       "      <td>70</td>\n",
       "      <td>2.707</td>\n",
       "      <td>0.467409</td>\n",
       "      <td>8.8071</td>\n",
       "      <td>9.702400</td>\n",
       "      <td>7.99585</td>\n",
       "      <td>417.114</td>\n",
       "      <td>1</td>\n",
       "    </tr>\n",
       "    <tr>\n",
       "      <th>1</th>\n",
       "      <td>83</td>\n",
       "      <td>20.690495</td>\n",
       "      <td>92</td>\n",
       "      <td>3.115</td>\n",
       "      <td>0.706897</td>\n",
       "      <td>8.8438</td>\n",
       "      <td>5.429285</td>\n",
       "      <td>4.06405</td>\n",
       "      <td>468.786</td>\n",
       "      <td>1</td>\n",
       "    </tr>\n",
       "    <tr>\n",
       "      <th>2</th>\n",
       "      <td>82</td>\n",
       "      <td>23.124670</td>\n",
       "      <td>91</td>\n",
       "      <td>4.498</td>\n",
       "      <td>1.009651</td>\n",
       "      <td>17.9393</td>\n",
       "      <td>22.432040</td>\n",
       "      <td>9.27715</td>\n",
       "      <td>554.697</td>\n",
       "      <td>1</td>\n",
       "    </tr>\n",
       "    <tr>\n",
       "      <th>3</th>\n",
       "      <td>68</td>\n",
       "      <td>21.367521</td>\n",
       "      <td>77</td>\n",
       "      <td>3.226</td>\n",
       "      <td>0.612725</td>\n",
       "      <td>9.8827</td>\n",
       "      <td>7.169560</td>\n",
       "      <td>12.76600</td>\n",
       "      <td>928.220</td>\n",
       "      <td>1</td>\n",
       "    </tr>\n",
       "    <tr>\n",
       "      <th>4</th>\n",
       "      <td>86</td>\n",
       "      <td>21.111111</td>\n",
       "      <td>92</td>\n",
       "      <td>3.549</td>\n",
       "      <td>0.805386</td>\n",
       "      <td>6.6994</td>\n",
       "      <td>4.819240</td>\n",
       "      <td>10.57635</td>\n",
       "      <td>773.920</td>\n",
       "      <td>1</td>\n",
       "    </tr>\n",
       "  </tbody>\n",
       "</table>\n",
       "</div>"
      ],
      "text/plain": [
       "   Age        BMI  Glucose  Insulin      HOMA   Leptin  Adiponectin  Resistin  \\\n",
       "0   48  23.500000       70    2.707  0.467409   8.8071     9.702400   7.99585   \n",
       "1   83  20.690495       92    3.115  0.706897   8.8438     5.429285   4.06405   \n",
       "2   82  23.124670       91    4.498  1.009651  17.9393    22.432040   9.27715   \n",
       "3   68  21.367521       77    3.226  0.612725   9.8827     7.169560  12.76600   \n",
       "4   86  21.111111       92    3.549  0.805386   6.6994     4.819240  10.57635   \n",
       "\n",
       "     MCP.1  Classification  \n",
       "0  417.114               1  \n",
       "1  468.786               1  \n",
       "2  554.697               1  \n",
       "3  928.220               1  \n",
       "4  773.920               1  "
      ]
     },
     "execution_count": 38,
     "metadata": {},
     "output_type": "execute_result"
    }
   ],
   "source": [
    "# Ouverture du dataset\n",
    "data.head()"
   ]
  },
  {
   "cell_type": "code",
   "execution_count": 39,
   "id": "42398161",
   "metadata": {},
   "outputs": [
    {
     "name": "stdout",
     "output_type": "stream",
     "text": [
      "<class 'pandas.core.frame.DataFrame'>\n",
      "RangeIndex: 116 entries, 0 to 115\n",
      "Data columns (total 10 columns):\n",
      " #   Column          Non-Null Count  Dtype  \n",
      "---  ------          --------------  -----  \n",
      " 0   Age             116 non-null    int64  \n",
      " 1   BMI             116 non-null    float64\n",
      " 2   Glucose         116 non-null    int64  \n",
      " 3   Insulin         116 non-null    float64\n",
      " 4   HOMA            116 non-null    float64\n",
      " 5   Leptin          116 non-null    float64\n",
      " 6   Adiponectin     116 non-null    float64\n",
      " 7   Resistin        116 non-null    float64\n",
      " 8   MCP.1           116 non-null    float64\n",
      " 9   Classification  116 non-null    int64  \n",
      "dtypes: float64(7), int64(3)\n",
      "memory usage: 9.2 KB\n"
     ]
    }
   ],
   "source": [
    "#Exploration des données\n",
    "data.info()"
   ]
  },
  {
   "cell_type": "code",
   "execution_count": 40,
   "id": "19243b74",
   "metadata": {},
   "outputs": [
    {
     "name": "stdout",
     "output_type": "stream",
     "text": [
      "              Age         BMI     Glucose     Insulin        HOMA      Leptin  \\\n",
      "count  116.000000  116.000000  116.000000  116.000000  116.000000  116.000000   \n",
      "mean    57.301724   27.582111   97.793103   10.012086    2.694988   26.615080   \n",
      "std     16.112766    5.020136   22.525162   10.067768    3.642043   19.183294   \n",
      "min     24.000000   18.370000   60.000000    2.432000    0.467409    4.311000   \n",
      "25%     45.000000   22.973205   85.750000    4.359250    0.917966   12.313675   \n",
      "50%     56.000000   27.662416   92.000000    5.924500    1.380939   20.271000   \n",
      "75%     71.000000   31.241442  102.000000   11.189250    2.857787   37.378300   \n",
      "max     89.000000   38.578759  201.000000   58.460000   25.050342   90.280000   \n",
      "\n",
      "       Adiponectin    Resistin        MCP.1  Classification  \n",
      "count   116.000000  116.000000   116.000000      116.000000  \n",
      "mean     10.180874   14.725966   534.647000        1.551724  \n",
      "std       6.843341   12.390646   345.912663        0.499475  \n",
      "min       1.656020    3.210000    45.843000        1.000000  \n",
      "25%       5.474283    6.881763   269.978250        1.000000  \n",
      "50%       8.352692   10.827740   471.322500        2.000000  \n",
      "75%      11.815970   17.755207   700.085000        2.000000  \n",
      "max      38.040000   82.100000  1698.440000        2.000000  \n"
     ]
    }
   ],
   "source": [
    "print(data.describe())"
   ]
  },
  {
   "cell_type": "code",
   "execution_count": 41,
   "id": "fd201b25",
   "metadata": {},
   "outputs": [
    {
     "data": {
      "text/plain": [
       "<AxesSubplot:>"
      ]
     },
     "execution_count": 41,
     "metadata": {},
     "output_type": "execute_result"
    },
    {
     "data": {
      "image/png": "[encoded data removed]",
      "text/plain": [
       "<Figure size 2500x1000 with 2 Axes>"
      ]
     },
     "metadata": {},
     "output_type": "display_data"
    }
   ],
   "source": [
    "# Visualisation des valeurs manquantes\n",
    "msno.matrix(data)"
   ]
  },
  {
   "cell_type": "code",
   "execution_count": 42,
   "id": "3b742392",
   "metadata": {},
   "outputs": [],
   "source": [
    "# Supprimer les duplications\n",
    "data = data.drop_duplicates()\n",
    "\n",
    "# Supprimer les colonnes avec des valeurs manquantes\n",
    "data = data.dropna(axis=1)\n"
   ]
  },
  {
   "cell_type": "code",
   "execution_count": 43,
   "id": "d669f7ce",
   "metadata": {},
   "outputs": [
    {
     "ename": "NameError",
     "evalue": "name 'sns' is not defined",
     "output_type": "error",
     "traceback": [
      "\u001b[1;31m---------------------------------------------------------------------------\u001b[0m",
      "\u001b[1;31mNameError\u001b[0m                                 Traceback (most recent call last)",
      "\u001b[1;32m~\\AppData\\Local\\Temp\\ipykernel_1376\\1734261232.py\u001b[0m in \u001b[0;36m<module>\u001b[1;34m\u001b[0m\n\u001b[0;32m      6\u001b[0m \u001b[1;33m\u001b[0m\u001b[0m\n\u001b[0;32m      7\u001b[0m \u001b[1;32mfor\u001b[0m \u001b[0mi\u001b[0m\u001b[1;33m,\u001b[0m \u001b[0mvariable\u001b[0m \u001b[1;32min\u001b[0m \u001b[0menumerate\u001b[0m\u001b[1;33m(\u001b[0m\u001b[1;33m[\u001b[0m\u001b[1;34m'Age'\u001b[0m\u001b[1;33m,\u001b[0m \u001b[1;34m'BMI'\u001b[0m\u001b[1;33m,\u001b[0m \u001b[1;34m'Glucose'\u001b[0m\u001b[1;33m,\u001b[0m \u001b[1;34m'Insulin'\u001b[0m\u001b[1;33m,\u001b[0m \u001b[1;34m'HOMA'\u001b[0m\u001b[1;33m,\u001b[0m \u001b[1;34m'Leptin'\u001b[0m\u001b[1;33m,\u001b[0m \u001b[1;34m'Adiponectin'\u001b[0m\u001b[1;33m,\u001b[0m \u001b[1;34m'Resistin'\u001b[0m\u001b[1;33m]\u001b[0m\u001b[1;33m)\u001b[0m\u001b[1;33m:\u001b[0m\u001b[1;33m\u001b[0m\u001b[1;33m\u001b[0m\u001b[0m\n\u001b[1;32m----> 8\u001b[1;33m     \u001b[0msns\u001b[0m\u001b[1;33m.\u001b[0m\u001b[0mhistplot\u001b[0m\u001b[1;33m(\u001b[0m\u001b[0mdata\u001b[0m\u001b[1;33m[\u001b[0m\u001b[0mvariable\u001b[0m\u001b[1;33m]\u001b[0m\u001b[1;33m,\u001b[0m \u001b[0mkde\u001b[0m\u001b[1;33m=\u001b[0m\u001b[1;32mTrue\u001b[0m\u001b[1;33m,\u001b[0m \u001b[0max\u001b[0m\u001b[1;33m=\u001b[0m\u001b[0maxes\u001b[0m\u001b[1;33m[\u001b[0m\u001b[0mi\u001b[0m\u001b[1;33m//\u001b[0m\u001b[1;36m4\u001b[0m\u001b[1;33m,\u001b[0m \u001b[0mi\u001b[0m\u001b[1;33m%\u001b[0m\u001b[1;36m4\u001b[0m\u001b[1;33m]\u001b[0m\u001b[1;33m)\u001b[0m\u001b[1;33m\u001b[0m\u001b[1;33m\u001b[0m\u001b[0m\n\u001b[0m\u001b[0;32m      9\u001b[0m     \u001b[0maxes\u001b[0m\u001b[1;33m[\u001b[0m\u001b[0mi\u001b[0m\u001b[1;33m//\u001b[0m\u001b[1;36m4\u001b[0m\u001b[1;33m,\u001b[0m \u001b[0mi\u001b[0m\u001b[1;33m%\u001b[0m\u001b[1;36m4\u001b[0m\u001b[1;33m]\u001b[0m\u001b[1;33m.\u001b[0m\u001b[0mset_title\u001b[0m\u001b[1;33m(\u001b[0m\u001b[1;34mf'Histogramme de {variable}'\u001b[0m\u001b[1;33m)\u001b[0m\u001b[1;33m\u001b[0m\u001b[1;33m\u001b[0m\u001b[0m\n\u001b[0;32m     10\u001b[0m \u001b[0mplt\u001b[0m\u001b[1;33m.\u001b[0m\u001b[0mtight_layout\u001b[0m\u001b[1;33m(\u001b[0m\u001b[1;33m)\u001b[0m\u001b[1;33m\u001b[0m\u001b[1;33m\u001b[0m\u001b[0m\n",
      "\u001b[1;31mNameError\u001b[0m: name 'sns' is not defined"
     ]
    },
    {
     "data": {
      "image/png": "[encoded data removed]",
      "text/plain": [
       "<Figure size 2000x1000 with 8 Axes>"
      ]
     },
     "metadata": {},
     "output_type": "display_data"
    }
   ],
   "source": [
    "import numpy as np\n",
    "from scipy.stats import norm\n",
    "\n",
    "# Examinez la distribution des variables continues avec la courbe de la loi normale\n",
    "fig, axes = plt.subplots(nrows=2, ncols=4, figsize=(20, 10))\n",
    "\n",
    "for i, variable in enumerate(['Age', 'BMI', 'Glucose', 'Insulin', 'HOMA', 'Leptin', 'Adiponectin', 'Resistin']):\n",
    "    sns.histplot(data[variable], kde=True, ax=axes[i//4, i%4])\n",
    "    axes[i//4, i%4].set_title(f'Histogramme de {variable}')\n",
    "plt.tight_layout()\n",
    "plt.show()\n"
   ]
  },
  {
   "cell_type": "markdown",
   "id": "d214054e-f7b4-4ec6-9f46-9f500853332a",
   "metadata": {},
   "source": [
    "## class kmeans"
   ]
  },
  {
   "cell_type": "code",
   "execution_count": 44,
   "id": "1f605c22",
   "metadata": {},
   "outputs": [],
   "source": [
    "class KMeans:\n",
    "    \"\"\"\n",
    "    Implémentation de l'algorithme de clustering K-Means.\n",
    "\n",
    "    Paramètres:\n",
    "        K (int): Nombre de clusters\n",
    "\n",
    "    Attributs:\n",
    "        K (int): Nombre de clusters\n",
    "        centroids (numpy.ndarray): Tableau contenant les centroids de chaque cluster\n",
    "\n",
    "    Méthodes:\n",
    "        __init__(self, K): Initialise l'instance Kmeans avec le nombre spécifié de clusters.\n",
    "        initialize_centroids(self): Initialise les centroids pour chaque cluster en sélectionnant K points aléatoires du jeu de données.\n",
    "        assign_points_centroids(self): Assignent chaque point du jeu de données au centroid le plus proche.\n",
    "        compute_mean(self, data, points): Calcule la moyenne des points assignés à chaque centroid.\n",
    "        fit(self, data, iterations=10): Effectue le clustering du jeu de données en utilisant l'algorithme K-Means.\n",
    "        elbow(self, data, max_clusters=10): Utilise la méthode du coude pour trouver le nombre optimal de clusters.\n",
    "        plot_clusters(self, data, assigned_points): Affiche le jeu de données avec les clusters assignés.\n",
    "        evaluation(self, data, assigned_points): Évalue la performance du modèle en utilisant des métriques appropriées.\n",
    "        inertia(self, data, assigned_points): Calcule l'inertie (somme des carrés des distances intra-cluster).\n",
    "\n",
    "    \"\"\"\n",
    "    def __init__(self,data, num_clusters=3, max_iterations=100, plot_figure=True):\n",
    "\n",
    "        \"\"\"\n",
    "        Initialise l'instance Kmeans avec le nombre spécifié de clusters.\n",
    "\n",
    "        Paramètres:\n",
    "            num_clusters (int): Nombre de clusters, \n",
    "            max_iterations (int): Nombre de clusters, \n",
    "            plot_figure (int): Nombre de clusters, \n",
    "\n",
    "        \"\"\"\n",
    "        self.num_clusters = num_clusters  # Nombre de clusters\n",
    "        self.max_iterations = max_iterations  # Nombre maximum d'itérations pour éviter les boucles infinies\n",
    "        self.plot_figure = plot_figure  # Indique s'il faut tracer la figure\n",
    "        self.data = np.array(data)\n",
    "        self.centroids = self.initialize_centroids()\n",
    "        self.cluster_assignments = None\n",
    "\n",
    "    def initialize_centroids(self):\n",
    "        \"\"\"\n",
    "        Initialise les centroids pour chaque cluster en sélectionnant K points aléatoires du jeu de données.\n",
    "\n",
    "        Paramètres:\n",
    "            data (numpy.ndarray): Jeu de données à clusteriser\n",
    "        Retourne:\n",
    "            numpy.ndarray: Tableau contenant l'indice du centroid pour chaque point\n",
    "        \"\"\"\n",
    "        # Initialiser les centroïdes de manière aléatoire\n",
    "        indices = np.random.choice(len(self.data), self.num_clusters, replace=False)\n",
    "        return self.data[indices]\n",
    "    \n",
    "    def find_nearest_centroid(self, point):\n",
    "        # Trouver l'indice du centroïde le plus proche pour un point donné\n",
    "        distances = np.linalg.norm(self.centroids - point, axis=1)\n",
    "        return np.argmin(distances)\n",
    "    # methode qui calcule la distance euclidienne\n",
    "    def euclidean_distance(self, a, b):\n",
    "        return np.sqrt(np.sum((np.array(a) - np.array(b))**2))\n",
    "\n",
    "    def assign_points_centroids(self, centroids):\n",
    "        \n",
    "        self.X = data.iloc[:, [0, 9]]  # Selection des features\n",
    "        self.m = self.X.shape[0]  # noumbre d'exemples pour le test\n",
    "        old_centroids  = np.zeros(centroids.shape)\n",
    "        stopping_c= 0.0001 #Critere d'arret de la boucle while quand le centroid et le point se confondent\n",
    "\n",
    "        # Assignent chaque point du jeu de données au centroid le plus proche.\n",
    "\n",
    "        while self.euclidean_distance(old_centroids, centroids) > stopping_c:\n",
    "            clusters = np.zeros(len(self.X))\n",
    "            # Affectation de chaque valeur au cluster le plus proche\n",
    "            for i in range(self.m):\n",
    "                distances = []\n",
    "                for j in range(len(centroids)):\n",
    "                    distances.append(self.euclidean_distance(self.X.iloc[i, :], centroids[j]))\n",
    "                cluster = np.argmin(distances)\n",
    "                clusters[i] = cluster\n",
    "        \n",
    "        \"\"\"\n",
    "        Paramètres:\n",
    "            data (numpy.ndarray): Jeu de données à clusteriser\n",
    "\n",
    "        Retourne:\n",
    "            numpy.ndarray: Tableau contenant l'indice du centroid pour chaque point\n",
    "        \"\"\"\n",
    "        \n",
    "\n",
    "    def compute_mean(self):\n",
    "        \"\"\"\n",
    "        Calcule la moyenne des points assignés à chaque centroid.\n",
    "\n",
    "        Paramètres:\n",
    "            data (numpy.ndarray): Jeu de données à clusteriser\n",
    "            points (numpy.ndarray): Tableau contenant l'indice du centroid pour chaque point\n",
    "\n",
    "        Retourne:\n",
    "            numpy.ndarray: Tableau contenant les nouveaux centroids pour chaque cluster\n",
    "        \"\"\"\n",
    "        result=[]\n",
    "        for c in data:\n",
    "            saved=[]\n",
    "            for p in points:\n",
    "                saved.append((c.x-p.x)/2+(c.y-p.y)/2)\n",
    "            result.append(np.mean(saved))\n",
    "        return result\n",
    "        \n",
    "\n",
    "    def fit(self,max_iterations=None):\n",
    "        \"\"\"\n",
    "        Effectue le clustering du jeu de données en utilisant l'algorithme K-Means.\n",
    "\n",
    "        Paramètres:\n",
    "            data (numpy.ndarray): Jeu de données à clusteriser\n",
    "            iterations (int): Nombre d'itérations à effectuer (par défaut=10)\n",
    "\n",
    "        Retourne:\n",
    "            numpy.ndarray: Tableau contenant les centroids finaux pour chaque cluster\n",
    "            numpy.ndarray: Tableau contenant l'indice du centroid pour chaque point\n",
    "        \"\"\"\n",
    "        if max_iterations is None:\n",
    "            max_iterations = self.max_iterations\n",
    "        for iteration in range(self.max_iterations):\n",
    "            # Affecter chaque point au centroïde le plus proche\n",
    "            self.cluster_assignments = np.array([self.find_nearest_centroid(point) for point in self.data])\n",
    "\n",
    "            # Mettre à jour les centroïdes en calculant la moyenne des points attribués à chaque cluster\n",
    "            for cluster in range(self.num_clusters):\n",
    "                points_in_cluster = self.data[self.cluster_assignments == cluster]\n",
    "                if len(points_in_cluster) > 0:\n",
    "                    self.centroids[cluster] = np.mean(points_in_cluster, axis=0)\n",
    "\n",
    "    @staticmethod\n",
    "    def elbow(data, max_clusters=10):\n",
    "        \"\"\"\n",
    "        Utilise la méthode du coude pour trouver le nombre optimal de clusters.\n",
    "        Utilise la libraire kneed pour recuperer cette valeur \n",
    "\n",
    "        Paramètres:\n",
    "            data (numpy.ndarray): Jeu de données à clusteriser\n",
    "            max_clusters (int): Nombre maximal de clusters à considérer (par défaut=10)\n",
    "\n",
    "        Retourne:\n",
    "            List: Liste des inerties intra-cluster pour chaque nombre de clusters testé\n",
    "        \"\"\"\n",
    "        \n",
    "\n",
    "    def plot_clusters(self):\n",
    "        \"\"\"\n",
    "        Affiche le jeu de données avec les clusters assignés.\n",
    "\n",
    "        Paramètres:\n",
    "            data (numpy.ndarray): Jeu de données à clusteriser\n",
    "            assigned_points (numpy.ndarray): Tableau contenant l'indice du centroid pour chaque point\n",
    "        \"\"\"\n",
    "        \n",
    "\n",
    "    def evaluation(self, data, assigned_points):\n",
    "        \"\"\"\n",
    "        Évalue la performance du modèle en utilisant des métriques appropriées.\n",
    "\n",
    "        Paramètres:\n",
    "            data (numpy.ndarray): Jeu de données à clusteriser\n",
    "            assigned_points (numpy.ndarray): Tableau contenant l'indice du centroid pour chaque point\n",
    "\n",
    "        Retourne:\n",
    "            float: Score d'évaluation\n",
    "        \"\"\"\n",
    "        \n",
    "\n",
    "    def inertia(self, data, assigned_points):\n",
    "        \"\"\"\n",
    "        Calcule l'inertie (somme des carrés des distances intra-cluster).\n",
    "\n",
    "        Paramètres:\n",
    "            data (numpy.ndarray): Jeu de données à clusteriser\n",
    "            assigned_points (numpy.ndarray): Tableau contenant l'indice du centroid pour chaque point\n",
    "\n",
    "        Retourne:\n",
    "            float: Valeur de l'inertie\n",
    "        \"\"\"\n",
    "        \n"
   ]
  },
  {
   "cell_type": "code",
   "execution_count": 45,
   "id": "a864868e",
   "metadata": {},
   "outputs": [
    {
     "name": "stdout",
     "output_type": "stream",
     "text": [
      "Centroides finaux : [[7 3]\n",
      " [6 7]\n",
      " [2 4]]\n",
      "Affectation des points : [2 1 2 1 2 0]\n"
     ]
    }
   ],
   "source": [
    "\"\"\" \n",
    "\n",
    "    Test fonction fit\n",
    "\n",
    "\"\"\"\n",
    "# Exemple d'utilisation\n",
    "data_points = [[1, 2], [5, 8], [3, 4], [8, 7], [2, 6], [7, 3]]\n",
    "\n",
    "kmeans = KMeans(data=data_points, plot_figure=True)\n",
    "kmeans.fit(max_iterations=100)\n",
    "# Afficher les résultats\n",
    "print(\"Centroides finaux :\", kmeans.centroids)\n",
    "print(\"Affectation des points :\", kmeans.cluster_assignments)"
   ]
  },
  {
   "cell_type": "markdown",
   "id": "52f82c3f",
   "metadata": {},
   "source": [
    "# séparation des données test et d'entrainement"
   ]
  },
  {
   "cell_type": "code",
   "execution_count": 46,
   "id": "6f1f4fe6",
   "metadata": {},
   "outputs": [
    {
     "name": "stdout",
     "output_type": "stream",
     "text": [
      "[[-1.10940039 -0.57979363 -0.81667527 ... -0.07022151 -0.54551749\n",
      "  -0.34125061]\n",
      " [-1.10940039  1.60182096 -1.37875056 ... -0.69734988 -0.86421418\n",
      "  -0.1912238 ]\n",
      " [-1.10940039  1.53948912 -0.89176446 ...  1.79799836 -0.4416602\n",
      "   0.05821407]\n",
      " ...\n",
      " [ 0.90138782  0.47984774  0.89385486 ...  1.81384272 -0.3563202\n",
      "  -0.64049127]\n",
      " [ 0.90138782  0.91617066 -0.39854568 ...  3.45903808 -0.92857684\n",
      "  -0.41283214]\n",
      " [ 0.90138782  1.7888165  -0.0804471  ...  0.57664406 -0.84103616\n",
      "  -1.29074683]]\n",
      "Taille de l'ensemble d'entraînement : 20\n",
      "Taille de l'ensemble de test : 20\n"
     ]
    }
   ],
   "source": [
    "from sklearn.model_selection import train_test_split\n",
    "\n",
    "#Selection des variable pertinents\n",
    "X = data[['Classification', 'Age','BMI','Glucose','Insulin','HOMA','Leptin','Adiponectin','Resistin','MCP.1']]\n",
    "#Normalisation des données\n",
    "scaler = StandardScaler()\n",
    "X_scaled = scaler.fit_transform(X)\n",
    "print(X_scaled)\n",
    "\n",
    "\n",
    "# Séparer les données en ensembles d'entraînement (20) et de test (20)\n",
    "train_data, test_data = train_test_split(X_scaled, test_size=20, train_size=20, random_state=42)\n",
    "from sklearn.cluster import KMeans\n",
    "\n",
    "# Afficher les tailles des ensembles d'entraînement et de test\n",
    "print(\"Taille de l'ensemble d'entraînement :\", len(train_data))\n",
    "print(\"Taille de l'ensemble de test :\", len(test_data))\n"
   ]
  },
  {
   "cell_type": "code",
   "execution_count": 47,
   "id": "54078e5e",
   "metadata": {},
   "outputs": [
    {
     "data": {
      "text/plain": [
       "(20, 10)"
      ]
     },
     "execution_count": 47,
     "metadata": {},
     "output_type": "execute_result"
    }
   ],
   "source": [
    "#taille des données d'entrainement\n",
    "train_data.shape"
   ]
  },
  {
   "cell_type": "code",
   "execution_count": 48,
   "id": "6d9eb6d4",
   "metadata": {},
   "outputs": [
    {
     "data": {
      "text/plain": [
       "(20, 10)"
      ]
     },
     "execution_count": 48,
     "metadata": {},
     "output_type": "execute_result"
    }
   ],
   "source": [
    "#taille des données de test\n",
    "test_data.shape"
   ]
  },
  {
   "cell_type": "markdown",
   "id": "b16a46cb",
   "metadata": {},
   "source": [
    "# Elbow model"
   ]
  },
  {
   "cell_type": "markdown",
   "id": "44f5aa2c",
   "metadata": {},
   "source": [
    "**Nous presenterons ici la methode Elbow permettant de trouver le nombre maximal de cluster**\n",
    "\n",
    "**Voici les étapes générales de la méthode du coude :**\n",
    "\n",
    "1. *Choisir le nombre de clusters :* Commencez par sélectionner une plage de valeurs pour le nombre de clusters que vous souhaitez tester. Cela peut aller de 1 à un certain nombre maximum raisonnable.\n",
    "\n",
    "2. *Appliquer l'algorithme de clustering :* Utilisez un algorithme de clustering comme K-means pour diviser vos données en un nombre variable de clusters en fonction des valeurs que vous avez choisies à l'étape précédente.\n",
    "\n",
    "3. *Calculer la somme des carrés des distances :* Pour chaque valeur de clusters, calculez la somme des carrés des distances entre chaque point de données et le centre de son cluster. Cette mesure est souvent appelée l'inertie intra-cluster.\n",
    "\n",
    "4. *Représenter graphiquement :* Tracez un graphique montrant le nombre de clusters sur l'axe des x et l'inertie intra-cluster sur l'axe des y. Vous verrez généralement une courbe qui ressemble à un \"coude\".\n",
    "\n",
    "5. *Trouver le coude :* Recherchez le point où l'inertie intra-cluster commence à diminuer de manière significativement plus lente. Ce point est souvent appelé le \"coude\" et correspond au nombre optimal de clusters.\n",
    "\n",
    "Le choix du nombre de clusters dépend souvent de l'équilibre entre la réduction de l'inertie intra-cluster (ce que nous voulons maximiser) et la complexité du modèle (ce que nous voulons minimiser).\n"
   ]
  },
  {
   "cell_type": "code",
   "execution_count": 49,
   "id": "97cc1ecb",
   "metadata": {},
   "outputs": [
    {
     "data": {
      "image/png": "[encoded data removed]",
      "text/plain": [
       "<Figure size 640x480 with 1 Axes>"
      ]
     },
     "metadata": {},
     "output_type": "display_data"
    }
   ],
   "source": [
    "# Liste pour stocker l'inertie pour différentes valeurs de k\n",
    "inertia_values = []\n",
    "\n",
    "# Tester différentes valeurs de k\n",
    "for k in range(1, 15):\n",
    "    kmeans = KMeans(n_clusters=k, random_state=42)\n",
    "    kmeans.fit(train_data)\n",
    "    inertia_values.append(kmeans.inertia_)\n",
    "\n",
    "# Tracer la courbe du coude\n",
    "plt.plot(range(1, 15), inertia_values, marker='o')\n",
    "plt.title('Méthode du coude pour déterminer le nombre optimal de clusters')\n",
    "plt.xlabel('Nombre de clusters (k)')\n",
    "plt.ylabel('Inertie')\n",
    "plt.show()"
   ]
  },
  {
   "cell_type": "markdown",
   "id": "e48616fa",
   "metadata": {},
   "source": [
    "# Nous voyons clairement qu'il ya le coude au niveau 4 d'ou le nombre de cluster est k=4 "
   ]
  },
  {
   "cell_type": "code",
   "execution_count": null,
   "id": "12c73b30",
   "metadata": {},
   "outputs": [],
   "source": []
  }
 ],
 "metadata": {
  "kernelspec": {
   "display_name": "Python 3 (ipykernel)",
   "language": "python",
   "name": "python3"
  },
  "language_info": {
   "codemirror_mode": {
    "name": "ipython",
    "version": 3
   },
   "file_extension": ".py",
   "mimetype": "text/x-python",
   "name": "python",
   "nbconvert_exporter": "python",
   "pygments_lexer": "ipython3",
   "version": "3.9.13"
  }
 },
 "nbformat": 4,
 "nbformat_minor": 5
}
