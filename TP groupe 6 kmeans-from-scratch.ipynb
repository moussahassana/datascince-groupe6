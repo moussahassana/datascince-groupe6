{
 "cells": [
  {
   "cell_type": "markdown",
   "metadata": {},
   "source": [
    "# TRAVAUX PRATIQUES GROUPE 6 K-MEANS: Prédiction du cancer de sein"
   ]
  },
  {
   "cell_type": "markdown",
   "metadata": {},
   "source": [
    "# 1- Formulation d'une solution \n",
    "&emsp;&emsp;Pour aborder ce problème de classification sur le cancer du sein, l'utilisation d'un modèle basé sur l'algorithme K-means pourrait être envisagée pour assigner efficacement les patients aux catégories de témoins sains ou de patientes atteintes de cancer du sein, en se basant sur leurs caractéristiques cliniques."
   ]
  },
  {
   "cell_type": "markdown",
   "metadata": {
    "jp-MarkdownHeadingCollapsed": true
   },
   "source": [
    "# 2- Collecte des données\n",
    "&emsp;&emsp;Nous avons recueilli le dataset sur kaggle: https://www.kaggle.com/datasets/tanshihjen/coimbra-breastcancer/data\n",
    "    \n",
    "&emsp;&emsp;Cet ensemble de données présente une exploration complète des caractéristiques cliniques observées ou mesurées chez 64 patientes atteintes d'un cancer du sein et 52 témoins sains. L'ensemble de données comprend à la fois des attributs quantitatifs et des étiquettes correspondantes pour une analyse et une modélisation efficaces.\n",
    "\n",
    "**Attributs quantitatifs :**\n",
    "\n",
    "- **Âge (années):** Âge des individus.\n",
    "- **IMC (kg/m²):** Indice de masse corporelle, une mesure de la graisse corporelle basée sur le poids et la taille.\n",
    "- **Glucose (mg/dL):** Glycémie, un indicateur métabolique important.\n",
    "- **Insuline (µU/mL):** Taux d'insuline, une hormone liée à la régulation du glucose.\n",
    "- **HOMA:** Homeostatic Model Assessment, une méthode d’évaluation de la résistance à l’insuline et de la fonction des cellules bêta.\n",
    "- **Leptine (ng/mL):** Taux de leptine, une hormone impliquée dans la régulation de l'appétit et de l'équilibre énergétique.\n",
    "- **Adiponectine (µg/mL):** Taux d'adiponectine, une protéine associée à la régulation métabolique.\n",
    "- **Résistine (ng/mL):** Niveaux de résistine, une protéine impliquée dans la résistance à l'insuline.\n",
    "- **MCP-1 (pg/dL):** Monocyte Chemoattractant Protein-1, une cytokine impliquée dans l'inflammation.\n",
    "\n",
    "**Étiquettes:**\n",
    "\n",
    "- **1 :** Témoins sains\n",
    "- **2 :** Patientes atteintes d’un cancer du sein\n",
    "\n"
   ]
  },
  {
   "cell_type": "markdown",
   "metadata": {},
   "source": [
    "# 3-Prétraitement des données \n",
    "## Importation des bibliothèques\n"
   ]
  },
  {
   "cell_type": "code",
   "execution_count": 4,
   "metadata": {},
   "outputs": [],
   "source": [
    "import matplotlib.pyplot as plt\n",
    "import pandas as pd\n",
    "from sklearn.preprocessing import StandardScaler\n",
    "from sklearn.cluster import KMeans\n",
    "from sklearn.model_selection import train_test_split\n",
    "from sklearn.metrics import roc_curve, auc\n",
    "#from kneed import KneeLocator \n",
    "#import missingno as msno\n",
    "import warnings\n",
    "warnings.filterwarnings('ignore')"
   ]
  },
  {
   "cell_type": "code",
   "execution_count": 5,
   "metadata": {},
   "outputs": [],
   "source": [
    "#Chargement du dataset\n",
    "data=pd.read_csv('Coimbra_breast_cancer_dataset.csv')"
   ]
  },
  {
   "cell_type": "code",
   "execution_count": 6,
   "metadata": {},
   "outputs": [
    {
     "data": {
      "text/html": [
       "<div>\n",
       "<style scoped>\n",
       "    .dataframe tbody tr th:only-of-type {\n",
       "        vertical-align: middle;\n",
       "    }\n",
       "\n",
       "    .dataframe tbody tr th {\n",
       "        vertical-align: top;\n",
       "    }\n",
       "\n",
       "    .dataframe thead th {\n",
       "        text-align: right;\n",
       "    }\n",
       "</style>\n",
       "<table border=\"1\" class=\"dataframe\">\n",
       "  <thead>\n",
       "    <tr style=\"text-align: right;\">\n",
       "      <th></th>\n",
       "      <th>Age</th>\n",
       "      <th>BMI</th>\n",
       "      <th>Glucose</th>\n",
       "      <th>Insulin</th>\n",
       "      <th>HOMA</th>\n",
       "      <th>Leptin</th>\n",
       "      <th>Adiponectin</th>\n",
       "      <th>Resistin</th>\n",
       "      <th>MCP.1</th>\n",
       "      <th>Classification</th>\n",
       "    </tr>\n",
       "  </thead>\n",
       "  <tbody>\n",
       "    <tr>\n",
       "      <th>0</th>\n",
       "      <td>48</td>\n",
       "      <td>23.500000</td>\n",
       "      <td>70</td>\n",
       "      <td>2.707</td>\n",
       "      <td>0.467409</td>\n",
       "      <td>8.8071</td>\n",
       "      <td>9.702400</td>\n",
       "      <td>7.99585</td>\n",
       "      <td>417.114</td>\n",
       "      <td>1</td>\n",
       "    </tr>\n",
       "    <tr>\n",
       "      <th>1</th>\n",
       "      <td>83</td>\n",
       "      <td>20.690495</td>\n",
       "      <td>92</td>\n",
       "      <td>3.115</td>\n",
       "      <td>0.706897</td>\n",
       "      <td>8.8438</td>\n",
       "      <td>5.429285</td>\n",
       "      <td>4.06405</td>\n",
       "      <td>468.786</td>\n",
       "      <td>1</td>\n",
       "    </tr>\n",
       "    <tr>\n",
       "      <th>2</th>\n",
       "      <td>82</td>\n",
       "      <td>23.124670</td>\n",
       "      <td>91</td>\n",
       "      <td>4.498</td>\n",
       "      <td>1.009651</td>\n",
       "      <td>17.9393</td>\n",
       "      <td>22.432040</td>\n",
       "      <td>9.27715</td>\n",
       "      <td>554.697</td>\n",
       "      <td>1</td>\n",
       "    </tr>\n",
       "    <tr>\n",
       "      <th>3</th>\n",
       "      <td>68</td>\n",
       "      <td>21.367521</td>\n",
       "      <td>77</td>\n",
       "      <td>3.226</td>\n",
       "      <td>0.612725</td>\n",
       "      <td>9.8827</td>\n",
       "      <td>7.169560</td>\n",
       "      <td>12.76600</td>\n",
       "      <td>928.220</td>\n",
       "      <td>1</td>\n",
       "    </tr>\n",
       "    <tr>\n",
       "      <th>4</th>\n",
       "      <td>86</td>\n",
       "      <td>21.111111</td>\n",
       "      <td>92</td>\n",
       "      <td>3.549</td>\n",
       "      <td>0.805386</td>\n",
       "      <td>6.6994</td>\n",
       "      <td>4.819240</td>\n",
       "      <td>10.57635</td>\n",
       "      <td>773.920</td>\n",
       "      <td>1</td>\n",
       "    </tr>\n",
       "  </tbody>\n",
       "</table>\n",
       "</div>"
      ],
      "text/plain": [
       "   Age        BMI  Glucose  Insulin      HOMA   Leptin  Adiponectin  Resistin  \\\n",
       "0   48  23.500000       70    2.707  0.467409   8.8071     9.702400   7.99585   \n",
       "1   83  20.690495       92    3.115  0.706897   8.8438     5.429285   4.06405   \n",
       "2   82  23.124670       91    4.498  1.009651  17.9393    22.432040   9.27715   \n",
       "3   68  21.367521       77    3.226  0.612725   9.8827     7.169560  12.76600   \n",
       "4   86  21.111111       92    3.549  0.805386   6.6994     4.819240  10.57635   \n",
       "\n",
       "     MCP.1  Classification  \n",
       "0  417.114               1  \n",
       "1  468.786               1  \n",
       "2  554.697               1  \n",
       "3  928.220               1  \n",
       "4  773.920               1  "
      ]
     },
     "execution_count": 6,
     "metadata": {},
     "output_type": "execute_result"
    }
   ],
   "source": [
    "# Ouverture du dataset\n",
    "data.head()"
   ]
  },
  {
   "cell_type": "code",
   "execution_count": 7,
   "metadata": {},
   "outputs": [
    {
     "name": "stdout",
     "output_type": "stream",
     "text": [
      "<class 'pandas.core.frame.DataFrame'>\n",
      "RangeIndex: 116 entries, 0 to 115\n",
      "Data columns (total 10 columns):\n",
      " #   Column          Non-Null Count  Dtype  \n",
      "---  ------          --------------  -----  \n",
      " 0   Age             116 non-null    int64  \n",
      " 1   BMI             116 non-null    float64\n",
      " 2   Glucose         116 non-null    int64  \n",
      " 3   Insulin         116 non-null    float64\n",
      " 4   HOMA            116 non-null    float64\n",
      " 5   Leptin          116 non-null    float64\n",
      " 6   Adiponectin     116 non-null    float64\n",
      " 7   Resistin        116 non-null    float64\n",
      " 8   MCP.1           116 non-null    float64\n",
      " 9   Classification  116 non-null    int64  \n",
      "dtypes: float64(7), int64(3)\n",
      "memory usage: 9.2 KB\n"
     ]
    }
   ],
   "source": [
    "#Exploration des données\n",
    "data.info()"
   ]
  },
  {
   "cell_type": "code",
   "execution_count": 8,
   "metadata": {},
   "outputs": [
    {
     "name": "stdout",
     "output_type": "stream",
     "text": [
      "              Age         BMI     Glucose     Insulin        HOMA      Leptin  \\\n",
      "count  116.000000  116.000000  116.000000  116.000000  116.000000  116.000000   \n",
      "mean    57.301724   27.582111   97.793103   10.012086    2.694988   26.615080   \n",
      "std     16.112766    5.020136   22.525162   10.067768    3.642043   19.183294   \n",
      "min     24.000000   18.370000   60.000000    2.432000    0.467409    4.311000   \n",
      "25%     45.000000   22.973205   85.750000    4.359250    0.917966   12.313675   \n",
      "50%     56.000000   27.662416   92.000000    5.924500    1.380939   20.271000   \n",
      "75%     71.000000   31.241442  102.000000   11.189250    2.857787   37.378300   \n",
      "max     89.000000   38.578759  201.000000   58.460000   25.050342   90.280000   \n",
      "\n",
      "       Adiponectin    Resistin        MCP.1  Classification  \n",
      "count   116.000000  116.000000   116.000000      116.000000  \n",
      "mean     10.180874   14.725966   534.647000        1.551724  \n",
      "std       6.843341   12.390646   345.912663        0.499475  \n",
      "min       1.656020    3.210000    45.843000        1.000000  \n",
      "25%       5.474282    6.881763   269.978250        1.000000  \n",
      "50%       8.352692   10.827740   471.322500        2.000000  \n",
      "75%      11.815970   17.755207   700.085000        2.000000  \n",
      "max      38.040000   82.100000  1698.440000        2.000000  \n"
     ]
    }
   ],
   "source": [
    "print(data.describe())"
   ]
  },
  {
   "cell_type": "code",
   "execution_count": 10,
   "metadata": {},
   "outputs": [],
   "source": [
    "# Visualisation des valeurs manquantes\n",
    "#msno.matrix(data)"
   ]
  },
  {
   "cell_type": "code",
   "execution_count": 11,
   "metadata": {},
   "outputs": [],
   "source": [
    "# Supprimer les duplications\n",
    "data = data.drop_duplicates()\n",
    "\n",
    "# Supprimer les colonnes avec des valeurs manquantes\n",
    "data = data.dropna(axis=1)\n"
   ]
  },
  {
   "cell_type": "code",
   "execution_count": 12,
   "metadata": {
    "scrolled": false
   },
   "outputs": [
    {
     "ename": "NameError",
     "evalue": "name 'sns' is not defined",
     "output_type": "error",
     "traceback": [
      "\u001b[1;31m---------------------------------------------------------------------------\u001b[0m",
      "\u001b[1;31mNameError\u001b[0m                                 Traceback (most recent call last)",
      "\u001b[1;32m<ipython-input-12-01d3734ee3da>\u001b[0m in \u001b[0;36m<module>\u001b[1;34m\u001b[0m\n\u001b[0;32m      6\u001b[0m \u001b[1;33m\u001b[0m\u001b[0m\n\u001b[0;32m      7\u001b[0m \u001b[1;32mfor\u001b[0m \u001b[0mi\u001b[0m\u001b[1;33m,\u001b[0m \u001b[0mvariable\u001b[0m \u001b[1;32min\u001b[0m \u001b[0menumerate\u001b[0m\u001b[1;33m(\u001b[0m\u001b[1;33m[\u001b[0m\u001b[1;34m'Age'\u001b[0m\u001b[1;33m,\u001b[0m \u001b[1;34m'BMI'\u001b[0m\u001b[1;33m,\u001b[0m \u001b[1;34m'Glucose'\u001b[0m\u001b[1;33m,\u001b[0m \u001b[1;34m'Insulin'\u001b[0m\u001b[1;33m,\u001b[0m \u001b[1;34m'HOMA'\u001b[0m\u001b[1;33m,\u001b[0m \u001b[1;34m'Leptin'\u001b[0m\u001b[1;33m,\u001b[0m \u001b[1;34m'Adiponectin'\u001b[0m\u001b[1;33m,\u001b[0m \u001b[1;34m'Resistin'\u001b[0m\u001b[1;33m]\u001b[0m\u001b[1;33m)\u001b[0m\u001b[1;33m:\u001b[0m\u001b[1;33m\u001b[0m\u001b[1;33m\u001b[0m\u001b[0m\n\u001b[1;32m----> 8\u001b[1;33m     \u001b[0msns\u001b[0m\u001b[1;33m.\u001b[0m\u001b[0mhistplot\u001b[0m\u001b[1;33m(\u001b[0m\u001b[0mdata\u001b[0m\u001b[1;33m[\u001b[0m\u001b[0mvariable\u001b[0m\u001b[1;33m]\u001b[0m\u001b[1;33m,\u001b[0m \u001b[0mkde\u001b[0m\u001b[1;33m=\u001b[0m\u001b[1;32mTrue\u001b[0m\u001b[1;33m,\u001b[0m \u001b[0max\u001b[0m\u001b[1;33m=\u001b[0m\u001b[0maxes\u001b[0m\u001b[1;33m[\u001b[0m\u001b[0mi\u001b[0m\u001b[1;33m//\u001b[0m\u001b[1;36m4\u001b[0m\u001b[1;33m,\u001b[0m \u001b[0mi\u001b[0m\u001b[1;33m%\u001b[0m\u001b[1;36m4\u001b[0m\u001b[1;33m]\u001b[0m\u001b[1;33m)\u001b[0m\u001b[1;33m\u001b[0m\u001b[1;33m\u001b[0m\u001b[0m\n\u001b[0m\u001b[0;32m      9\u001b[0m     \u001b[0maxes\u001b[0m\u001b[1;33m[\u001b[0m\u001b[0mi\u001b[0m\u001b[1;33m//\u001b[0m\u001b[1;36m4\u001b[0m\u001b[1;33m,\u001b[0m \u001b[0mi\u001b[0m\u001b[1;33m%\u001b[0m\u001b[1;36m4\u001b[0m\u001b[1;33m]\u001b[0m\u001b[1;33m.\u001b[0m\u001b[0mset_title\u001b[0m\u001b[1;33m(\u001b[0m\u001b[1;34mf'Histogramme de {variable}'\u001b[0m\u001b[1;33m)\u001b[0m\u001b[1;33m\u001b[0m\u001b[1;33m\u001b[0m\u001b[0m\n\u001b[0;32m     10\u001b[0m \u001b[0mplt\u001b[0m\u001b[1;33m.\u001b[0m\u001b[0mtight_layout\u001b[0m\u001b[1;33m(\u001b[0m\u001b[1;33m)\u001b[0m\u001b[1;33m\u001b[0m\u001b[1;33m\u001b[0m\u001b[0m\n",
      "\u001b[1;31mNameError\u001b[0m: name 'sns' is not defined"
     ]
    },
    {
     "data": {
      "image/png": "[encoded data removed]",
      "text/plain": [
       "<Figure size 1440x720 with 8 Axes>"
      ]
     },
     "metadata": {
      "needs_background": "light"
     },
     "output_type": "display_data"
    }
   ],
   "source": [
    "import numpy as np\n",
    "from scipy.stats import norm\n",
    "\n",
    "# Examinez la distribution des variables continues avec la courbe de la loi normale\n",
    "fig, axes = plt.subplots(nrows=2, ncols=4, figsize=(20, 10))\n",
    "\n",
    "for i, variable in enumerate(['Age', 'BMI', 'Glucose', 'Insulin', 'HOMA', 'Leptin', 'Adiponectin', 'Resistin']):\n",
    "    sns.histplot(data[variable], kde=True, ax=axes[i//4, i%4])\n",
    "    axes[i//4, i%4].set_title(f'Histogramme de {variable}')\n",
    "plt.tight_layout()\n",
    "plt.show()\n"
   ]
  },
  {
   "cell_type": "code",
   "execution_count": 44,
   "metadata": {},
   "outputs": [
    {
     "data": {
      "text/plain": [
       "(116, 10)"
      ]
     },
     "execution_count": 44,
     "metadata": {},
     "output_type": "execute_result"
    }
   ],
   "source": [
    "data.shape"
   ]
  },
  {
   "cell_type": "code",
   "execution_count": null,
   "metadata": {},
   "outputs": [],
   "source": []
  },
  {
   "cell_type": "code",
   "execution_count": 50,
   "metadata": {},
   "outputs": [
    {
     "name": "stdout",
     "output_type": "stream",
     "text": [
      "[[ 60.          31.23140988 131.          30.13         9.73600733\n",
      "   37.843        8.40443     11.50005    396.021        2.        ]\n",
      " [ 77.          25.9         85.           4.58         0.96027333\n",
      "   13.74         9.75326     11.774      488.829        1.        ]\n",
      " [ 51.          27.68877813  77.           3.855        0.732193\n",
      "   20.092        3.19209     10.37518    473.859        1.        ]]\n"
     ]
    }
   ],
   "source": [
    "#obtenir les centroid initiaux\n",
    "centroids=data.sample(n=3).values\n",
    "print(centroids)"
   ]
  },
  {
   "cell_type": "code",
   "execution_count": 27,
   "metadata": {},
   "outputs": [],
   "source": [
    "def euclidianDistance(point1,point2):\n",
    "    return np.sqrt(np.sum((point1-point2)**2))"
   ]
  },
  {
   "cell_type": "code",
   "execution_count": 34,
   "metadata": {},
   "outputs": [],
   "source": [
    "def calculateDistanceCentroid(data,centroids):\n",
    "    distances=[]\n",
    "    for centroid in centroids:\n",
    "        distances.append(np.array([euclidianDistance(point,centroid) for point in data.values]))\n",
    "    return np.array(distances)"
   ]
  },
  {
   "cell_type": "code",
   "execution_count": 40,
   "metadata": {},
   "outputs": [],
   "source": [
    "def assignNearestCluster(distances):\n",
    "    return np.argmin(distances,axis=0)"
   ]
  },
  {
   "cell_type": "code",
   "execution_count": 46,
   "metadata": {},
   "outputs": [],
   "source": [
    "def updateCentroids(data,clusters,numCluster,centroids):\n",
    "    newCentroids=[]\n",
    "    for clusterIndex in range(numCluster):\n",
    "        clusterPoints=data[clusters==clusterIndex]\n",
    "        if(len(clusterPoints)>0):\n",
    "            newCentroid=np.mean(clusterPoints,axis=0)\n",
    "            newCentroids.append(newCentroid)\n",
    "        else:\n",
    "            newCentroid.append(centroids[clusterIndex])\n",
    "    return np.array(newCentroids)"
   ]
  },
  {
   "cell_type": "code",
   "execution_count": 56,
   "metadata": {},
   "outputs": [
    {
     "name": "stdout",
     "output_type": "stream",
     "text": [
      "[[ 59.07407407  26.50624923  97.14814815   9.08583333   2.29115556\n",
      "   27.46786111  11.4222675   12.42255722 264.75407407   1.57407407]\n",
      " [ 56.07142857  28.70820371  99.64285714  10.74275      3.10084337\n",
      "   26.44204821   8.96584527  17.36368    803.08641071   1.53571429]\n",
      " [ 52.83333333  26.75466498  86.33333333  11.52883333   2.54148807\n",
      "   20.55501667  10.3486      10.83797833 458.24883333   1.5       ]]\n"
     ]
    }
   ],
   "source": [
    "clusters=assignNearestCluster(calculateDistanceCentroid(data,centroids))\n",
    "print(updateCentroids(data,clusters,len(centroids),centroids))"
   ]
  },
  {
   "cell_type": "code",
   "execution_count": 51,
   "metadata": {},
   "outputs": [
    {
     "data": {
      "text/plain": [
       "3"
      ]
     },
     "execution_count": 51,
     "metadata": {},
     "output_type": "execute_result"
    }
   ],
   "source": []
  },
  {
   "cell_type": "code",
   "execution_count": null,
   "metadata": {},
   "outputs": [],
   "source": []
  },
  {
   "cell_type": "code",
   "execution_count": 104,
   "metadata": {},
   "outputs": [],
   "source": [
    "class Kmeans:\n",
    "    \"\"\"\n",
    "    Implémentation de l'algorithme de clustering K-Means.\n",
    "\n",
    "    Paramètres:\n",
    "        K (int): Nombre de clusters\n",
    "\n",
    "    Attributs:\n",
    "        K (int): Nombre de clusters\n",
    "        centroids (numpy.ndarray): Tableau contenant les centroids de chaque cluster\n",
    "\n",
    "    Méthodes:\n",
    "        __init__(self, K): Initialise l'instance Kmeans avec le nombre spécifié de clusters.\n",
    "        initialize_centroids(self, X): Initialise les centroids pour chaque cluster en sélectionnant K points aléatoires du jeu de données.\n",
    "        assign_points_centroids(self, X): Assignent chaque point du jeu de données au centroid le plus proche.\n",
    "        compute_mean(self, X, points): Calcule la moyenne des points assignés à chaque centroid.\n",
    "        fit(self, X, iterations=10): Effectue le clustering du jeu de données en utilisant l'algorithme K-Means.\n",
    "        elbow(self, X, max_clusters=10): Utilise la méthode du coude pour trouver le nombre optimal de clusters.\n",
    "        plot_clusters(self, X, assigned_points): Affiche le jeu de données avec les clusters assignés.\n",
    "        evaluation(self, X, assigned_points): Évalue la performance du modèle en utilisant des métriques appropriées.\n",
    "        inertia(self, X, assigned_points): Calcule l'inertie (somme des carrés des distances intra-cluster).\n",
    "\n",
    "    \"\"\"\n",
    "    \n",
    "    def __init__(self, K):\n",
    "        \"\"\"\n",
    "        ETAPE #1\n",
    "        Initialise l'instance Kmeans avec le nombre spécifié de clusters.\n",
    "        Paramètres:\n",
    "            K (int): Nombre de clusters\n",
    "        \"\"\"\n",
    "        self.K=K\n",
    "        #pass\n",
    "\n",
    "    def initialize_centroids(self, X):\n",
    "        \"\"\"\n",
    "        ETAPE #2\n",
    "        Initialise les centroids au travers du dataset.\n",
    "\n",
    "        \"\"\"\n",
    "        self.centroids=X.sample(n=self.K).values\n",
    "        #pass\n",
    "\n",
    "    def assign_points_centroids(self, X): \n",
    "        \"\"\"\n",
    "        ETAPE #3\n",
    "        Assignent chaque point du jeu de données au centroid le plus proche.\n",
    "        \"\"\"\n",
    "       \n",
    "        distances=[]\n",
    "        for centroid in self.centroids:\n",
    "            distances.append(np.array([euclidianDistance(point,centroid) for point in X.values]))\n",
    "        return  np.argmin(np.array(distances),axis=0)\n",
    "\n",
    "    def compute_mean(self, X, oldCluster):\n",
    "        \"\"\"\n",
    "        ETAPE #4\n",
    "        Calcule la moyenne des points assignés à chaque centroid et assigne assigne le nouveau centroid\n",
    "        \n",
    "        \"\"\"\n",
    "        newCentroids=[]\n",
    "        for clusterIndex in range(len(self.centroids)):\n",
    "            clusterPoints=X[oldCluster==clusterIndex]\n",
    "            if(len(clusterPoints)>0):\n",
    "                newCentroid=np.mean(clusterPoints,axis=0)\n",
    "                newCentroids.append(newCentroid)\n",
    "            else:\n",
    "                newCentroid.append(centroids[clusterIndex])\n",
    "        self.centroids=np.array(newCentroids)\n",
    "        pass\n",
    "\n",
    "    def fit(self, X, iterations=10):\n",
    "        \"\"\"\n",
    "        ETAPE 5\n",
    "        Effectue le clustering du jeu de données en utilisant l'algorithme K-Means.\n",
    "        \"\"\"\n",
    "        self.initialize_centroids(X)\n",
    "        #print(self.centroids)\n",
    "        clusters=self.assign_points_centroids(X)\n",
    "        #print(clusters)\n",
    "        for i in range(iterations):#condition devrait lorsque le precedant cluster est egal au deuxieme\n",
    "            if(i==iterations-2):\n",
    "                print(\"precedent cluster\")\n",
    "                print(clusters)\n",
    "            self.compute_mean(X,clusters)\n",
    "            clusters=self.assign_points_centroids(X)\n",
    "        print(\"final centroid\")\n",
    "        print(self.centroids)\n",
    "        print(\"final cluster\")\n",
    "        print(clusters)\n",
    "\n",
    "    @staticmethod\n",
    "    def elbow(X, max_clusters=10):\n",
    "        \"\"\"\n",
    "        Utilise la méthode du coude pour trouver le nombre optimal de clusters.\n",
    "        Utilise la libraire kneed pour recuperer cette valeur \n",
    "\n",
    "        Paramètres:\n",
    "            X (numpy.ndarray): Jeu de données à clusteriser\n",
    "            max_clusters (int): Nombre maximal de clusters à considérer (par défaut=10)\n",
    "\n",
    "        Retourne:\n",
    "            List: Liste des inerties intra-cluster pour chaque nombre de clusters testé\n",
    "        \"\"\"\n",
    "        pass\n",
    "\n",
    "    def plot_clusters(self, X, assigned_points):\n",
    "        \"\"\"\n",
    "        Affiche le jeu de données avec les clusters assignés.\n",
    "\n",
    "        Paramètres:\n",
    "            X (numpy.ndarray): Jeu de données à clusteriser\n",
    "            assigned_points (numpy.ndarray): Tableau contenant l'indice du centroid pour chaque point\n",
    "        \"\"\"\n",
    "        pass\n",
    "\n",
    "    def evaluation(self, X, assigned_points):\n",
    "        \"\"\"\n",
    "        Évalue la performance du modèle en utilisant des métriques appropriées.\n",
    "\n",
    "        Paramètres:\n",
    "            X (numpy.ndarray): Jeu de données à clusteriser\n",
    "            assigned_points (numpy.ndarray): Tableau contenant l'indice du centroid pour chaque point\n",
    "\n",
    "        Retourne:\n",
    "            float: Score d'évaluation\n",
    "        \"\"\"\n",
    "        pass\n",
    "\n",
    "    def inertia(self, X, assigned_points):\n",
    "        \"\"\"\n",
    "        Calcule l'inertie (somme des carrés des distances intra-cluster).\n",
    "\n",
    "        Paramètres:\n",
    "            X (numpy.ndarray): Jeu de données à clusteriser\n",
    "            assigned_points (numpy.ndarray): Tableau contenant l'indice du centroid pour chaque point\n",
    "\n",
    "        Retourne:\n",
    "            float: Valeur de l'inertie\n",
    "        \"\"\"\n",
    "        pass\n"
   ]
  },
  {
   "cell_type": "code",
   "execution_count": 105,
   "metadata": {},
   "outputs": [],
   "source": [
    "kmeans= Kmeans(3)"
   ]
  },
  {
   "cell_type": "code",
   "execution_count": 106,
   "metadata": {},
   "outputs": [
    {
     "name": "stdout",
     "output_type": "stream",
     "text": [
      "precedent cluster\n",
      "[1 1 2 2 2 2 0 1 1 1 1 1 1 2 1 1 1 1 1 2 2 2 2 2 0 2 2 0 2 2 2 2 1 2 1 2 2\n",
      " 1 1 2 2 1 1 1 1 1 1 1 1 1 1 2 2 1 2 1 1 1 1 2 1 2 2 1 1 2 2 1 1 1 1 1 2 1\n",
      " 1 2 1 2 0 2 2 1 2 2 0 0 0 0 0 2 2 2 2 2 1 2 1 1 1 1 2 1 1 1 2 2 2 1 1 1 1\n",
      " 1 1 1 1 1]\n",
      "final centroid\n",
      "[[  67.625        28.50333647  128.5          17.781         7.4323343\n",
      "    30.4959125     7.56807625   26.91259375 1432.27775       1.625     ]\n",
      " [  59.14516129   26.42670875   95.82258065    9.15327419    2.26836289\n",
      "    26.27707097   11.19478371   12.12393565  290.38432258    1.5483871 ]\n",
      " [  53.02173913   28.97917873   95.10869565    9.8185        2.44611704\n",
      "    26.39573043    9.26869957   16.11363652  707.76091304    1.54347826]]\n",
      "final cluster\n",
      "[1 1 2 2 2 2 0 1 1 1 1 1 1 2 1 1 1 1 1 2 2 2 2 2 0 2 2 0 2 2 2 2 1 2 1 2 2\n",
      " 1 1 2 2 1 1 1 1 1 1 1 1 1 1 1 2 1 2 1 1 1 1 2 1 2 2 1 1 2 2 1 1 1 1 1 2 1\n",
      " 1 2 1 2 0 2 2 1 2 2 2 0 0 0 0 2 2 2 2 2 1 2 1 1 1 1 2 1 1 1 2 2 2 1 1 1 1\n",
      " 1 1 1 1 1]\n"
     ]
    }
   ],
   "source": [
    "kmeans.fit(data)"
   ]
  },
  {
   "cell_type": "code",
   "execution_count": null,
   "metadata": {},
   "outputs": [],
   "source": []
  }
 ],
 "metadata": {
  "kernelspec": {
   "display_name": "Python 3",
   "language": "python",
   "name": "python3"
  },
  "language_info": {
   "codemirror_mode": {
    "name": "ipython",
    "version": 3
   },
   "file_extension": ".py",
   "mimetype": "text/x-python",
   "name": "python",
   "nbconvert_exporter": "python",
   "pygments_lexer": "ipython3",
   "version": "3.8.5"
  }
 },
 "nbformat": 4,
 "nbformat_minor": 5
}
