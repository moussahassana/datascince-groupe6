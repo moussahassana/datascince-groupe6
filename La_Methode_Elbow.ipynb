{
 "cells": [
  {
   "cell_type": "markdown",
   "id": "f76d7eb3",
   "metadata": {},
   "source": [
    "**Nous presenterons ici la methode Elbow permettant de trouver le nombre maximal de cluster**\n",
    "\n",
    "**Voici les étapes générales de la méthode du coude :**\n",
    "\n",
    "1. *Choisir le nombre de clusters :* Commencez par sélectionner une plage de valeurs pour le nombre de clusters que vous souhaitez tester. Cela peut aller de 1 à un certain nombre maximum raisonnable.\n",
    "\n",
    "2. *Appliquer l'algorithme de clustering :* Utilisez un algorithme de clustering comme K-means pour diviser vos données en un nombre variable de clusters en fonction des valeurs que vous avez choisies à l'étape précédente.\n",
    "\n",
    "3. *Calculer la somme des carrés des distances :* Pour chaque valeur de clusters, calculez la somme des carrés des distances entre chaque point de données et le centre de son cluster. Cette mesure est souvent appelée l'inertie intra-cluster.\n",
    "\n",
    "4. *Représenter graphiquement :* Tracez un graphique montrant le nombre de clusters sur l'axe des x et l'inertie intra-cluster sur l'axe des y. Vous verrez généralement une courbe qui ressemble à un \"coude\".\n",
    "\n",
    "5. *Trouver le coude :* Recherchez le point où l'inertie intra-cluster commence à diminuer de manière significativement plus lente. Ce point est souvent appelé le \"coude\" et correspond au nombre optimal de clusters.\n",
    "\n",
    "Le choix du nombre de clusters dépend souvent de l'équilibre entre la réduction de l'inertie intra-cluster (ce que nous voulons maximiser) et la complexité du modèle (ce que nous voulons minimiser).\n"
   ]
  },
  {
   "cell_type": "markdown",
   "id": "2b7639da",
   "metadata": {},
   "source": [
    "# Importer les bibliothèques nécessaires\n",
    "import numpy as np\n",
    "import matplotlib.pyplot as plt\n",
    "from sklearn.cluster import KMeans\n",
    "\n",
    "# Supposez que vous avez déjà un train_set (non-Numpy)\n",
    "# train_set = ...\n",
    "\n",
    "# Convertir le train_set en tableau NumPy\n",
    "train_set_np = np.array(train_set)\n",
    "\n",
    "# Essayer différentes valeurs de k (nombre de clusters)\n",
    "k_values = range(1, 11)\n",
    "inertia_values = []\n",
    "\n",
    "# Boucle sur différentes valeurs de k\n",
    "for k in k_values:\n",
    "    # Créer un modèle K-means avec le nombre de clusters k\n",
    "    kmeans = KMeans(n_clusters=k, random_state=42)\n",
    "    \n",
    "    # Appliquer le modèle aux données d'entraînement\n",
    "    kmeans.fit(train_set_np)\n",
    "    \n",
    "    # Stocker l'inertie intra-cluster pour cette valeur de k\n",
    "    inertia_values.append(kmeans.inertia_)\n",
    "\n",
    "# Tracé de la courbe du coude\n",
    "plt.plot(k_values, inertia_values, marker='o')\n",
    "plt.title('Méthode du Coude pour la détermination du nombre de clusters')\n",
    "plt.xlabel('Nombre de clusters (k)')\n",
    "plt.ylabel('Inertie intra-cluster')\n",
    "plt.show()\n",
    "\n",
    "\n",
    "**Import des bibliothèques :** Importe les bibliothèques nécessaires (NumPy pour les tableaux, Matplotlib pour les graphiques, et KMeans de scikit-learn pour l'algorithme K-means).\n",
    "\n",
    "**Supposition de l'existence d'un train_set :** On suppose que vous avez déjà un ensemble de données d'entraînement (non spécifié dans le code).\n",
    "\n",
    "**Conversion en tableau NumPy :** Convertit l'ensemble de données d'entraînement (train_set) en un tableau NumPy (train_set_np).\n",
    "\n",
    "**Boucle sur différentes valeurs de k :** Itère sur différentes valeurs de k (nombre de clusters) pour tester l'effet de chaque valeur sur l'inertie intra-cluster.\n",
    "\n",
    "**Création du modèle K-means :** Crée un modèle K-means avec le nombre de clusters actuel (k) et fixe la graine aléatoire avec random_state=42.\n",
    "\n",
    "**Entraînement du modèle :** Applique le modèle K-means aux données d'entraînement.\n",
    "\n",
    "**Stockage de l'inertie intra-cluster :** Stocke l'inertie intra-cluster (la somme des carrés des distances) pour cette valeur de k.\n",
    "\n",
    "**Tracé de la courbe du coude :** Utilise Matplotlib pour tracer la courbe du coude, montrant l'inertie intra-cluster en fonction du nombre de clusters.\n",
    "\n",
    "**Ajout de titres et d'étiquettes d'axe :** Ajoute des titres et des étiquettes d'axe pour rendre le graphique informatif.\n",
    "\n",
    "**Affichage du graphique :** Affiche le graphique résultant."
   ]
  },
  {
   "cell_type": "code",
   "execution_count": null,
   "id": "1f3e5b8f",
   "metadata": {},
   "outputs": [],
   "source": [
    "# Exemple avec un les données aléatoires\n",
    "import numpy as np\n",
    "import matplotlib.pyplot as plt\n",
    "from sklearn.cluster import KMeans\n",
    "from sklearn.datasets import make_blobs\n",
    "\n",
    "# Génération de données aléatoires pour l'exemple\n",
    "data, _ = make_blobs(n_samples=300, centers=4, random_state=42)\n",
    "\n",
    "# Essayer différentes valeurs de k (nombre de clusters)\n",
    "k_values = range(1, 11)\n",
    "inertia_values = []\n",
    "\n",
    "for k in k_values:\n",
    "    kmeans = KMeans(n_clusters=k, random_state=42)\n",
    "    kmeans.fit(data)\n",
    "    inertia_values.append(kmeans.inertia_)\n",
    "\n",
    "# Tracé de la courbe du coude\n",
    "plt.plot(k_values, inertia_values, marker='o')\n",
    "plt.title('Méthode du Coude pour la détermination du nombre de clusters')\n",
    "plt.xlabel('Nombre de clusters (k)')\n",
    "plt.ylabel('Inertie intra-cluster')\n",
    "plt.show()\n"
   ]
  },
  {
   "cell_type": "markdown",
   "id": "1fd049b0",
   "metadata": {},
   "source": [
    "# Nous voyons ici àprès execution que la coude se fait entre le point 2 et le point 4 d'où le nombre de cluster k=3."
   ]
  },
  {
   "cell_type": "code",
   "execution_count": null,
   "id": "cd44fb23",
   "metadata": {},
   "outputs": [],
   "source": []
  }
 ],
 "metadata": {
  "kernelspec": {
   "display_name": "Python 3 (ipykernel)",
   "language": "python",
   "name": "python3"
  },
  "language_info": {
   "codemirror_mode": {
    "name": "ipython",
    "version": 3
   },
   "file_extension": ".py",
   "mimetype": "text/x-python",
   "name": "python",
   "nbconvert_exporter": "python",
   "pygments_lexer": "ipython3",
   "version": "3.9.13"
  }
 },
 "nbformat": 4,
 "nbformat_minor": 5
}
