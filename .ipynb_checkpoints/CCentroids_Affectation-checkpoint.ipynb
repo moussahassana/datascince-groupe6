{
 "cells": [
  {
   "cell_type": "code",
   "execution_count": 2,
   "metadata": {},
   "outputs": [],
   "source": [
    "import numpy as np\n",
    "\n",
    "class KMeans:\n",
    "    def __init__(self, n_clusters, data):\n",
    "        self.n_clusters = n_clusters\n",
    "        self.data = np.array(data)\n",
    "        self.centroids = self.initialize_centroids()\n",
    "        self.cluster_assignments = None\n",
    "\n",
    "    def initialize_centroids(self):\n",
    "        # Initialiser les centroïdes de manière aléatoire\n",
    "        indices = np.random.choice(len(self.data), self.n_clusters, replace=False)\n",
    "        return self.data[indices]\n",
    "\n",
    "    def find_nearest_centroid(self, point):\n",
    "        # Trouver l'indice du centroïde le plus proche pour un point donné\n",
    "        distances = np.linalg.norm(self.centroids - point, axis=1)\n",
    "        return np.argmin(distances)\n",
    "\n",
    "    def fit(self, n_iterations):\n",
    "        for iteration in range(n_iterations):\n",
    "            # Affecter chaque point au centroïde le plus proche\n",
    "            self.cluster_assignments = np.array([self.find_nearest_centroid(point) for point in self.data])\n",
    "\n",
    "            # Mettre à jour les centroïdes en calculant la moyenne des points attribués à chaque cluster\n",
    "            for cluster in range(self.n_clusters):\n",
    "                points_in_cluster = self.data[self.cluster_assignments == cluster]\n",
    "                if len(points_in_cluster) > 0:\n",
    "                    self.centroids[cluster] = np.mean(points_in_cluster, axis=0)\n",
    "\n",
    "\n",
    "\n"
   ]
  },
  {
   "cell_type": "markdown",
   "metadata": {},
   "source": [
    "Test"
   ]
  },
  {
   "cell_type": "code",
   "execution_count": 5,
   "metadata": {},
   "outputs": [
    {
     "name": "stdout",
     "output_type": "stream",
     "text": [
      "Centroides finaux : [[6 7]\n",
      " [7 3]\n",
      " [2 4]]\n",
      "Affectation des points : [2 0 2 0 2 1]\n"
     ]
    }
   ],
   "source": [
    "# Exemple d'utilisation\n",
    "data_points = [[1, 2], [5, 8], [3, 4], [8, 7], [2, 6], [7, 3]]\n",
    "kmeans = KMeans(n_clusters=3, data=data_points)\n",
    "kmeans.fit(n_iterations=100)\n",
    "\n",
    "# Afficher les résultats\n",
    "print(\"Centroides finaux :\", kmeans.centroids)\n",
    "print(\"Affectation des points :\", kmeans.cluster_assignments)"
   ]
  },
  {
   "cell_type": "markdown",
   "metadata": {},
   "source": []
  }
 ],
 "metadata": {
  "kernelspec": {
   "display_name": "Python 3",
   "language": "python",
   "name": "python3"
  },
  "language_info": {
   "codemirror_mode": {
    "name": "ipython",
    "version": 3
   },
   "file_extension": ".py",
   "mimetype": "text/x-python",
   "name": "python",
   "nbconvert_exporter": "python",
   "pygments_lexer": "ipython3",
   "version": "3.7.0"
  }
 },
 "nbformat": 4,
 "nbformat_minor": 2
}
