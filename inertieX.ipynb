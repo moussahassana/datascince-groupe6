{
 "cells": [
  {
   "cell_type": "code",
   "execution_count": null,
   "id": "923d8139",
   "metadata": {},
   "outputs": [],
   "source": [
    "# importer le module numpy pour les calculs matriciels\n",
    "import numpy as np\n",
    "\n",
    "# definir la fonction qui calcule l'inertie\n",
    "def calculer_inertie(data, center, k):\n",
    "    #print(data)\n",
    "    b=['Age', 'BMI', 'Glucose', 'Insulin', 'HOMA', 'Leptin', 'Adiponectin', 'Resistin', 'MCP.1']\n",
    "    inertie=0\n",
    "    a=0\n",
    "    for i in b:\n",
    "\n",
    "        # soustraire le centroide à chaque donnée\n",
    "        data_centered = data[i] - center[k][a]\n",
    "        # print(data_centered)\n",
    "\n",
    "        # calculer la distance euclidienne au carrée entre chaque donnée et le centre\n",
    "        distances = np.sum(data_centered**2)\n",
    "        # print(distances)\n",
    "\n",
    "        # sommer les distances pour obtenir l'inertie\n",
    "        inertie = inertie + distances\n",
    "        a=a+1\n",
    "\n",
    "    # retourner l'inertie\n",
    "    return inertie"
   ]
  },
  {
   "cell_type": "code",
   "execution_count": null,
   "id": "11d3e4cb",
   "metadata": {},
   "outputs": [],
   "source": [
    "# une boucle qui nous calcule l'inertie pour tous les clusters et les sauvegarde dans la variable inerties\n",
    "clusters = 3\n",
    "inerties=[]\n",
    "for t  in range(0, clusters):\n",
    "    temp=cluster_df[cluster_df['cluster']==t]\n",
    "    tab = calculer_inertie(temp, centroids, t)\n",
    "    inerties.append(tab)\n",
    "inerties"
   ]
  }
 ],
 "metadata": {
  "kernelspec": {
   "display_name": "Python 3 (ipykernel)",
   "language": "python",
   "name": "python3"
  },
  "language_info": {
   "codemirror_mode": {
    "name": "ipython",
    "version": 3
   },
   "file_extension": ".py",
   "mimetype": "text/x-python",
   "name": "python",
   "nbconvert_exporter": "python",
   "pygments_lexer": "ipython3",
   "version": "3.10.9"
  }
 },
 "nbformat": 4,
 "nbformat_minor": 5
}
